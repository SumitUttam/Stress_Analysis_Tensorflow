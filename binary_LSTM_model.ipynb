{
  "nbformat": 4,
  "nbformat_minor": 0,
  "metadata": {
    "accelerator": "GPU",
    "colab": {
      "provenance": [],
      "authorship_tag": "ABX9TyO0vk8LwPnCyTdQHAlF2rtC"
    },
    "kernelspec": {
      "display_name": "Python 3",
      "name": "python3"
    }
  },
  "cells": [
    {
      "cell_type": "code",
      "metadata": {
        "id": "pKgKWjoOL9AK"
      },
      "source": [
        "import tensorflow as tf\n",
        "import numpy as np\n",
        "from tensorflow.keras import layers\n",
        "import matplotlib.pyplot as plt\n",
        "from tensorflow.keras.callbacks import ReduceLROnPlateau"
      ],
      "execution_count": null,
      "outputs": []
    },
    {
      "cell_type": "code",
      "metadata": {
        "colab": {
          "base_uri": "https://localhost:8080/"
        },
        "id": "B1WtWhGiMJOm",
        "outputId": "9e4213c7-f630-40f1-9288-2e265d4f81e4"
      },
      "source": [
        "from google.colab import drive\n",
        "drive.mount('gdrive')"
      ],
      "execution_count": null,
      "outputs": [
        {
          "output_type": "stream",
          "text": [
            "Mounted at gdrive\n"
          ],
          "name": "stdout"
        }
      ]
    },
    {
      "cell_type": "code",
      "metadata": {
        "id": "WlKWNps-MK9J"
      },
      "source": [
        "import os\n",
        "os.chdir(\"/content/gdrive/My Drive/StressAnalysis\")"
      ],
      "execution_count": null,
      "outputs": []
    },
    {
      "cell_type": "code",
      "metadata": {
        "colab": {
          "base_uri": "https://localhost:8080/"
        },
        "id": "-i7KTbV0McRu",
        "outputId": "d8968ce2-24e7-43d3-8554-48c67c694d0f"
      },
      "source": [
        "batch_size = 32\n",
        "class_names = [\"Normal_Posts\",\"Depressed_Posts\"]\n",
        "vocab_file = 'vocab.txt'\n",
        "raw_train_ds = tf.keras.preprocessing.text_dataset_from_directory( \"Train\",\n",
        "                                                                    batch_size=batch_size,\n",
        "                                                                    class_names = class_names,\n",
        "                                                                    validation_split=0.2,\n",
        "                                                                    subset=\"training\",\n",
        "                                                                    seed=1337,\n",
        "                                                                    shuffle = True,\n",
        "                                                                )\n",
        "raw_val_ds = tf.keras.preprocessing.text_dataset_from_directory(   \"Train\",\n",
        "                                                                    batch_size=batch_size,\n",
        "                                                                    class_names = class_names,\n",
        "                                                                    validation_split=0.2,\n",
        "                                                                    subset=\"validation\",\n",
        "                                                                    seed=1337,\n",
        "                                                                    shuffle = False,\n",
        "                                                                )"
      ],
      "execution_count": null,
      "outputs": [
        {
          "output_type": "stream",
          "text": [
            "Found 10586 files belonging to 2 classes.\n",
            "Using 8469 files for training.\n",
            "Found 10586 files belonging to 2 classes.\n",
            "Using 2117 files for validation.\n"
          ],
          "name": "stdout"
        }
      ]
    },
    {
      "cell_type": "code",
      "metadata": {
        "colab": {
          "base_uri": "https://localhost:8080/"
        },
        "id": "fdgvowMpMz4A",
        "outputId": "ec00e816-aa30-4fce-9ffa-9336fe00188c"
      },
      "source": [
        "for text_batch, label_batch in raw_train_ds.take(1):\n",
        "    for i in range(5):\n",
        "        print(text_batch.numpy()[i])\n",
        "        print(label_batch.numpy()[i])"
      ],
      "execution_count": null,
      "outputs": [
        {
          "output_type": "stream",
          "text": [
            "b\"I just finished Siegmeyer's quest. Never forget.\\n \\nHello.\\n\\n&#x200B;\\n\\nSure, I already knew it. I know the steps, I did in the classic DS version... I was only thinking in that sweet, nice titanite chunk...\\n\\n&#x200B;\\n\\nBut then I had to talk to Sieglinde. She was sad, she cried.\\n\\nI am sad too now.\\n\\n&#x200B;\\n\\nRest in Piece, Onion Knight. Your bravery made me smile, your encounter in Anor Londo, that first time years ago, made me confident enough to take down those Silver Knights. You are my favourite character. \\n\\n&#x200B;\\n\\nNever forget.\"\n",
            "0\n",
            "b'In the summer of 1993, six hikers died in the Siberian mountains, suffering from violent, unexplained symptoms. One young girl lived to tell the tale.\\n \\nHello, all! First post here, and it\\'s a wild one. Given the similarities to the infamous Dyatlov Pass Incident, I\\'m surprised no one has written about this one before! It\\'s difficult to find resources in English, and I\\'m not a native Russian speaker, so... bear with me.\\n\\nOn ***August 5, 1993***, a small Siberian hiking expedition led by hiking expert Lyudmila Korovina came to a tragic end on the slopes of the Hamar-Daban mountain range. Six out of seven members of the young group died under mysterious, violent circumstances; in a matter of minutes, they collapsed in spasms, suffering from profuse bleeding from their noses and mouths. Their senses abandoned them; they could not flee. The members of the group all stumbled and met their deaths on the unforgiving mountainside... all but one.\\n\\nThe members of the group were:\\n\\n* ***Lyudmila Ivanova Korovina*** (41) --- group leader, and an experienced hiker. While Lyudmila\\'s methods of leading her hikers had occasionally come under criticism for being too \"survivalist\" --- but the hikers who worked with her admired her deeply. According to one of her former students, \"She knew how to unite everyone, make a team. She believed in people. She could make a person become who he really is. Under her mentoring, each of us managed to maximize our abilities, grow in all spheres of life. How many people thanks to her became excellent teachers, athletes, created families, learned to play the guitar, draw, became stronger, bolder, more correct! We were all like foster children to her, she worried about everyone, she sent the guys and met them from the army.\" [(source)](https://m.ru.sputniknews.kz/society/20170824/3076927/poslednij-pohod-zagadochnaya-gibel-kazahstancev-vblizi-bajkala.html?mobile_return=no) Lyudmila was, by all accounts, a very experienced and competent hiking instructor.\\n* ***Tatyana Filipenko*** (24)\\n* ***Aleksander \"Sasha\" Krysin*** (23) --- a family friend of Lyudmila\\'s. She reportedly \"raised the guy from childhood and therefore practically considered him her son.\" From this, we can infer Sasha was familiar with Lyudmila\\'s hiking methods, and may have travelled with her before.\\n* ***Denis Shvachkin*** (19)\\n* ***Viktoriya \"Vika\" Zalesova*** (16)\\n* ***Timur Bapanov*** (15)\\n* ***Valentina \"Valya\" Utochenko*** (17) --- the group\\'s lone survivor\\n\\nThe group, consisting mostly of teenagers, struck out on the morning of August 2. They were not the only hiking group travelling that route at the same time; two other groups were in the vicinity, including one led by Lyudmila Korovina\\'s 16-year old daughter. The groups led by mother and daughter planned to meet up at the bottom of the pass. Good weather was predicted for the expeditions, but they unexpectedly found themselves dealing with on-and-off freezing rain and snow showers. Inconvenient, sure, but not likely to kill anyone.\\n\\n\"The route started on August 2, departing from Murino. The group crossed the Langutai Gates gorge, climbed the highest mountain in the range, Khanulu, and walked to the watershed plateau of the Anigta and Baiga rivers. In total, it was about 70km. On August 4, the group paused between the peaks of Folets Yagelny and Tritans.\" ([source)](https://medium.com/inconclusivo/o-incidente-do-hamar-daban-pass-completa-27-anos-37a77777a4c3) They chose to camp on a slope, roughly four kilometers from the forest\\'s edge. It was an odd place for them to choose, completely uncovered, offering no shelter from the bad weather. Why did Korovina, an experienced instructor, allow this?\\n\\nDuring the night, the group endured a violent thunderstorm. On the morning of August 5, a fresh sheet of snow had fallen on the mountain range, and weather conditions were very poor. The group of seven began their uneasy descent down the mountain slope... but only minutes into the trek, the oldest and strongest of the male hikers, **Aleksander \"Sasha\" Krysin, was struck down,** bleeding heavily from the nose, ears, and mouth. In moments, he was dead.\\n\\nThe other hikers were aghast. Lyudmila Korovina ordered her group to continue down the slope as quickly as possible. She herself chose to remain alongside Sasha Krysin\\'s body; Lyudmila was a lifelong friend of the boy, having shared a close bond with him from childhood, and was probably deeply shocked by his death. The hikers descended a short distance down the slope, but doubled back when Korovina called to them for help. She could not move either. However, when they found her again, ***their hiking instructor was also dying.*** Reports vary; she perished either of a heart attack or the same mysterious symptoms that killed Krysin.\\n\\nA pall of panic descended upon the group --- along with the same inexplicable symptoms. **The remaining hikers quickly developed the same symptoms.** Two of the girls in the group collapsed, tearing at their clothes and twitching. The group\\'s lone survivor described: *\"Denis began to hide behind the rocks and run away, Tatiana was banging her head against the stones, Victoria and Timur probably went mad.\"* When she tried to recover Viktoriya Zalesova, one of the youngest of the group, the distressed girl bit her.\\n\\nValentina Utochenko and Denis Schvachkin were the only two hikers who remained clearheaded, but even they were fading quickly. Forcing themselves to maintain their composure, they continued down the slope; Denis told Valentina to grab the essentials from her backpack, abandon it, and start running. She dug through her pack... but when she looked up, Denis had already collapsed, bleeding heavily. Valentina could do nothing for him. She ran.\\n\\nBy the time she made it to the bottom of the mountain, she was alone and nearly unconscious. She hid in the shelter of the woods all night long, enduring the bad weather. The next morning was calm. A weakened Valentina travelled back up to the slope to find her friends; she was confronted by a scene of horror. Bodies lay everywhere, all overcome by their mysterious illness. Some reports state that Lyudmila Ivanova was still alive, dying, but able to direct Valentina where to go in order to save her own life. The more-often reported (and most likely) scenario is that **Lyudmila was already dead, along with the rest of her young group.**\\n\\nTraumatized and suffering from severe shock, Valentina could only go on alone. She wandered the woods, searching for rescue, for ***three days.*** By the time she emerged back into civilization, she could speak to no one, and respond to nothing.\\n\\nA search was immediately launched for the remaining members of the Korovina group. It was a slow process; their bodies were not recovered *until the end of August*. By that time, decomposition had begun to set in, and animals had already reached the remains. When the bodies were finally found, the searchers were left deeply shocked at their condition. They were contorted and grimacing horribly; some of the bodies were barefoot, wearing nothing but tights and leotards. Lyudmila was draped over Sasha, as though shielding him. One of the members of the recovery team described:\\n\\n*\"It was a scary picture. The hikers were lying on a small ledge, some huddled together, some a little distance away. They had no eyes. In the empty sockets and parted mouths, worms were crawling. We packed the bodies in plastic bags. When they flew to Ulan-Ude, the smell in the helicopter was impossible --- some of the men were sick.\"*\\n\\nSummer decomposition can account for the condition of the bodies, perhaps, but so many questions remain. Including the most important --- ***why did six young, healthy people fall down dead?***\\n\\nAccording to the autopsy, hypothermia played a role in their deaths; the bodies appeared to suffer from protein-deficiency (despite having eaten well during the trip), and bruising of the lungs. But what caused their intense illness in the first place? What caused such violent fits? What killed young, healthy Sasha Krysin in a matter of seconds, and overcame the rest of the group shortly thereafter?\\n\\nNearly 30 years later, this tragedy remains a visceral pain for all involved. The tourists\\' surviving family members have difficulty speaking of the tragedy. Lone survivor Valentina Utochenko is still traumatized by the tragedy, and refuses to speak of it. It remains a deep scar on the hearts of the victims\\' loved ones, especially thanks to a lack of answers.\\n\\nI know this sounds like something out of a horror film, but let\\'s be clear: *this wasn\\'t supernatural.* I don\\'t buy that the Dyatlov incident was supernatural either. Both incidents had some natural cause, some explanation behind all the inexplicable, horrible tragedies which occurred. ***But what could have killed the Korovina group?*** Was it altitude? Infrasound? Some kind of accidental poisoning?\\n\\n**Sources: (many of them aren\\'t in English, so liberal Google Translate has been employed)**\\n\\n* [https://dyatlovpass.com/hamar-daban](https://dyatlovpass.com/hamar-daban)\\n* [https://medium.com/inconclusivo/o-incidente-do-hamar-daban-pass-completa-27-anos-37a77777a4c3](https://medium.com/inconclusivo/o-incidente-do-hamar-daban-pass-completa-27-anos-37a77777a4c3)\\n* [https://m.ru.sputniknews.kz/society/20170824/3076927/poslednij-pohod-zagadochnaya-gibel-kazahstancev-vblizi-bajkala.html?mobile\\\\_return=no](https://m.ru.sputniknews.kz/society/20170824/3076927/poslednij-pohod-zagadochnaya-gibel-kazahstancev-vblizi-bajkala.html?mobile_return=no)\\n* [https://forum.dyatlovpass.com/index.php?topic=471.0](https://forum.dyatlovpass.com/index.php?topic=471.0)\\n* [https://zizuhotel.ru/en/moskva/smert-buryatskih-turistov-pereohlazhdenie-ili-mistika-uchenye/](https://zizuhotel.ru/en/moskva/smert-buryatskih-turistov-pereohlazhdenie-ili-mistika-uchenye/)\\n* [https://www.youtube.com/watch?v=MnYphRRF71M](https://www.youtube.com/watch?v=MnYphRRF71M)  (footage from the recovery mission, contains censored images of the bodies  --  Russian with English subtitles)\\n\\nedited to correct typos / details ---  thank you so much for the gold!\\n\\n**edited again for clarification:**  the hikers were not merely suffering nosebleeds, they were ***profusely bleeding from their nose, mouth, and ears***.  Also, regarding Valentina\\'s statements after the fact:\\n\\n*\"The full account from her that we have stems from the report she gave authorities shortly after the incident. She had recovered a bit from her shock then, so she was able to recount the events... but in the years since, she prefers not to discuss it. Who could blame her? She was a traumatized young girl, and as she describes it, this event tore apart her entire life. Several researchers have located her on social media, but she refuses to speak to them.*\\n\\n*She did, however, revisit the incident in 2019 for a Russian documentary (found on youtube:* [*https://www.youtube.com/watch?v=UzEUBwvfQ1k&t=297s*](https://www.youtube.com/watch?v=UzEUBwvfQ1k&t=297s)*). It\\'s in Russian, with no subtitles, so I haven\\'t watched the whole thing, but it seems like Valentina may finally be coming to terms with the trauma and able to open up more.\"*'\n",
            "0\n",
            "b\"You're given the option to drop what you have and return to 12/31/2011 as yourself at that age, but with the extra 8 years of experience. Do you take it? Why or why not?\\n \\nnan\"\n",
            "0\n",
            "b'Who was \"The Voice\" in Field of Dreams?\\n \\nHere\\'s a fun one for a Saturday morning. Who was \"The Voice\" in the 1989 film, *Field of Dreams*?\\n\\n\\nSeems like a pretty easy thing to Google, right? IMDB should be able to solve this quickly. IMDB credits \"The Voice\" as Ed Harris, but lists it as unconfirmed. And, according to the film\\'s director, it\\'s completely wrong.\\n\\n\\nSome people think it\\xe2\\x80\\x99s Ed Harris; some think it\\xe2\\x80\\x99s the star of the movie, Kevin Costner; and some think it is another of the movie\\xe2\\x80\\x99s stars, Ray Liotta. Phil Alden Robinson, the director of the film, says he\\'s the only person who knows and he hasn\\'t heard anyone guess the right name yet.\\n\\n\\n\\xe2\\x80\\x9cI did record the voice as a scratch track,\\xe2\\x80\\x9d Robinson says. \\xe2\\x80\\x9cWhen you go into the editing room, you have to have something to cut to, so I recorded the voice as well as Kevin\\xe2\\x80\\x99s opening narration. When the picture was locked, we re-recorded all of that voiceover with people who could really do it. What\\xe2\\x80\\x99s funny is that a few people who thought they knew have revealed it and gotten it wrong. I\\xe2\\x80\\x99ll read people saying, \\xe2\\x80\\x98Well I happen to know that it\\xe2\\x80\\x99s so-and-so,\\xe2\\x80\\x99 and I\\xe2\\x80\\x99m like, \\xe2\\x80\\x98Oh no, it\\xe2\\x80\\x99s not!\\xe2\\x80\\x99 We\\xe2\\x80\\x99ll let that remain a secret. It\\xe2\\x80\\x99s a great mystery, and I like that.\\xe2\\x80\\x9d\\n\\n\\nThe film\\'s closing credits aren\\'t much help, either. \"The Voice\" is simply played by \"Himself\"\\n\\n\\nSources: https://www.latimes.com/sports/sportsnow/la-sp-morning-briefing-20190624-story.html\\n\\n\\nhttps://www.imdb.com/title/tt0097351/fullcredits?ref_=tt_cl_sm#cast\\n\\n\\n**EDIT**: Link to a scene in the movie with the voice - \\n\\nhttps://www.youtube.com/watch?feature=youtu.be&v=5Ay5GqJwHF8'\n",
            "0\n",
            "b'Every time I wake up from sleeping I\\xe2\\x80\\x99m just like *sigh* \\xe2\\x80\\x9cfuck.\\xe2\\x80\\x9d\\n \\nOr sometimes I\\xe2\\x80\\x99ll be doing anything and i stop for a second and I\\xe2\\x80\\x99m say under my breath \\xe2\\x80\\x9cfuck I hate my life dude.\\xe2\\x80\\x9d'\n",
            "1\n"
          ],
          "name": "stdout"
        }
      ]
    },
    {
      "cell_type": "code",
      "metadata": {
        "colab": {
          "base_uri": "https://localhost:8080/"
        },
        "id": "rjiOes0pNEBv",
        "outputId": "79804745-4564-48d9-dc2e-27a4d78a387d"
      },
      "source": [
        "from tensorflow.keras.layers.experimental.preprocessing import TextVectorization\n",
        "import string\n",
        "import re\n",
        "\n",
        "def custom_standardization(input_data):\n",
        "    lowercase = tf.strings.lower(input_data)\n",
        "    stripped = tf.strings.regex_replace(lowercase, \"\\n\", \" \")\n",
        "    return tf.strings.regex_replace(\n",
        "        stripped, \"[%s]\" % re.escape(string.punctuation), \"\"\n",
        "    )\n",
        "\n",
        "# Model constants.\n",
        "max_features = 20000\n",
        "embedding_dim = 128\n",
        "sequence_length = 1000\n",
        "\n",
        "vectorize_layer = TextVectorization(\n",
        "    standardize=custom_standardization,\n",
        "    max_tokens=max_features,\n",
        "    output_mode=\"int\",\n",
        "    output_sequence_length=sequence_length,\n",
        ")\n",
        "\n",
        "try:\n",
        "    print (\"attempting to recover previous vocabulary...\")\n",
        "\n",
        "    f = open(vocab_file, 'r')\n",
        "    vocab = f.read().split('\\n')\n",
        "    vocab = vocab[1:]\n",
        "    vectorize_layer.set_vocabulary(vocab, df_data=None, oov_df_value=None)\n",
        "    print ('previous vocabulary loaded')\n",
        "except:\n",
        "    print ('Exsisting vocabulary not found creating new vocabulary')\n",
        "    print (\"Making text-only dataset\")\n",
        "    # Making a text-only dataset to for adapting the vectorize layer:\n",
        "    text_ds = raw_train_ds.map(lambda x, y: x)\n",
        "    print (\"adapting vector layer\")\n",
        "    vectorize_layer.adapt(text_ds)\n",
        "    print ('backing up the voacbulary')\n",
        "    vocab = vectorize_layer.get_vocabulary()\n",
        "    f = open(vocab_file, 'w')\n",
        "    voc = str()\n",
        "    for v in vocab:\n",
        "        voc = voc+'\\n'+v\n",
        "    f.write(voc)\n",
        "    print ('Vocabulary generated and backed up')\n"
      ],
      "execution_count": null,
      "outputs": [
        {
          "output_type": "stream",
          "text": [
            "Making text-only dataset\n",
            "attempting to recover previous vocabulary...\n",
            "previous vocabulary loaded\n"
          ],
          "name": "stdout"
        }
      ]
    },
    {
      "cell_type": "code",
      "metadata": {
        "id": "b0Pw7e8XN4UW"
      },
      "source": [
        "def vectorize_text(text, label):\n",
        "    text = tf.expand_dims(text, -1)\n",
        "    return vectorize_layer(text), label\n",
        "\n",
        "\n",
        "# Vectorize the data.\n",
        "train_ds = raw_train_ds.map(vectorize_text)\n",
        "val_ds = raw_val_ds.map(vectorize_text)\n",
        "\n",
        "# Do async prefetching / buffering of the data for best performance on GPU.\n",
        "train_ds = train_ds.cache().prefetch(buffer_size=10)\n",
        "val_ds = val_ds.cache().prefetch(buffer_size=10)"
      ],
      "execution_count": null,
      "outputs": []
    },
    {
      "cell_type": "code",
      "metadata": {
        "id": "0iDp5wTAN-zk",
        "colab": {
          "base_uri": "https://localhost:8080/"
        },
        "outputId": "f1746a7f-9f25-4e08-ec08-8673a2ca50f8"
      },
      "source": [
        "# A integer input for vocab indices.\n",
        "inputs = tf.keras.Input(shape=(None,), dtype=\"int64\")\n",
        "\n",
        "# Adding a layer to map those vocab indices.\n",
        "x = layers.Embedding(max_features, embedding_dim)(inputs)\n",
        "x = layers.Dropout(0.3)(x)\n",
        "\n",
        "# LSTM layer\n",
        "x = layers.Bidirectional(layers.LSTM(embedding_dim))(x)\n",
        "\n",
        "# Adding fully connected hidden layers:\n",
        "x = layers.Dense(embedding_dim, activation=\"relu\")(x)\n",
        "x = layers.Dropout(0.5)(x)\n",
        "x = layers.Dense(64, activation=\"relu\")(x)\n",
        "x = layers.Dropout(0.5)(x)\n",
        "\n",
        "# Projecting onto a single unit output layer, with sigmoid activation function:\n",
        "predictions = layers.Dense(1, activation=\"sigmoid\", name=\"predictions\")(x)\n",
        "\n",
        "model = tf.keras.Model(inputs, predictions)\n",
        "\n",
        "opt = tf.keras.optimizers.Adam(learning_rate=0.001,)\n",
        "\n",
        "# Compile the model with binary crossentropy loss and an adam optimizer.\n",
        "model.compile(loss=\"binary_crossentropy\", optimizer=opt, metrics=[\"accuracy\"])\n",
        "model.summary()"
      ],
      "execution_count": null,
      "outputs": [
        {
          "output_type": "stream",
          "text": [
            "Model: \"model\"\n",
            "_________________________________________________________________\n",
            "Layer (type)                 Output Shape              Param #   \n",
            "=================================================================\n",
            "input_1 (InputLayer)         [(None, None)]            0         \n",
            "_________________________________________________________________\n",
            "embedding (Embedding)        (None, None, 128)         2560000   \n",
            "_________________________________________________________________\n",
            "dropout (Dropout)            (None, None, 128)         0         \n",
            "_________________________________________________________________\n",
            "bidirectional (Bidirectional (None, 256)               263168    \n",
            "_________________________________________________________________\n",
            "dense (Dense)                (None, 128)               32896     \n",
            "_________________________________________________________________\n",
            "dropout_1 (Dropout)          (None, 128)               0         \n",
            "_________________________________________________________________\n",
            "dense_1 (Dense)              (None, 64)                8256      \n",
            "_________________________________________________________________\n",
            "dropout_2 (Dropout)          (None, 64)                0         \n",
            "_________________________________________________________________\n",
            "predictions (Dense)          (None, 1)                 65        \n",
            "=================================================================\n",
            "Total params: 2,864,385\n",
            "Trainable params: 2,864,385\n",
            "Non-trainable params: 0\n",
            "_________________________________________________________________\n"
          ],
          "name": "stdout"
        }
      ]
    },
    {
      "cell_type": "code",
      "metadata": {
        "id": "6wJSkYQLOLK3",
        "colab": {
          "base_uri": "https://localhost:8080/"
        },
        "outputId": "ba1cd33b-9931-434a-95cf-61cf2d50e2b6"
      },
      "source": [
        "epochs = 20\n",
        "\n",
        "reduce_lr = ReduceLROnPlateau(monitor='val_loss', factor=0.1,\n",
        "                              patience=2, min_lr=0.00001, mode='auto')\n",
        "\n",
        "callbacks = [reduce_lr]\n",
        "\n",
        "# Fit the model using the train and test datasets.\n",
        "history = model.fit(train_ds, validation_data=val_ds, epochs=epochs, callbacks=callbacks)"
      ],
      "execution_count": null,
      "outputs": [
        {
          "output_type": "stream",
          "text": [
            "Epoch 1/20\n",
            "265/265 [==============================] - 33s 115ms/step - loss: 0.4285 - accuracy: 0.7930 - val_loss: 0.1617 - val_accuracy: 0.9301\n",
            "Epoch 2/20\n",
            "265/265 [==============================] - 31s 116ms/step - loss: 0.0891 - accuracy: 0.9693 - val_loss: 0.1121 - val_accuracy: 0.9617\n",
            "Epoch 3/20\n",
            "265/265 [==============================] - 30s 113ms/step - loss: 0.0354 - accuracy: 0.9885 - val_loss: 0.1377 - val_accuracy: 0.9684\n",
            "Epoch 4/20\n",
            "265/265 [==============================] - 30s 114ms/step - loss: 0.0135 - accuracy: 0.9950 - val_loss: 0.1359 - val_accuracy: 0.9792\n",
            "Epoch 5/20\n",
            "265/265 [==============================] - 30s 113ms/step - loss: 0.0087 - accuracy: 0.9976 - val_loss: 0.1045 - val_accuracy: 0.9858\n",
            "Epoch 6/20\n",
            "265/265 [==============================] - 30s 112ms/step - loss: 0.0051 - accuracy: 0.9992 - val_loss: 0.0955 - val_accuracy: 0.9868\n",
            "Epoch 7/20\n",
            "265/265 [==============================] - 30s 114ms/step - loss: 0.0044 - accuracy: 0.9987 - val_loss: 0.0919 - val_accuracy: 0.9872\n",
            "Epoch 8/20\n",
            "265/265 [==============================] - 30s 113ms/step - loss: 0.0042 - accuracy: 0.9992 - val_loss: 0.0912 - val_accuracy: 0.9882\n",
            "Epoch 9/20\n",
            "265/265 [==============================] - 30s 112ms/step - loss: 0.0034 - accuracy: 0.9993 - val_loss: 0.0873 - val_accuracy: 0.9891\n",
            "Epoch 10/20\n",
            "265/265 [==============================] - 30s 112ms/step - loss: 0.0040 - accuracy: 0.9989 - val_loss: 0.0852 - val_accuracy: 0.9891\n",
            "Epoch 11/20\n",
            "265/265 [==============================] - 30s 112ms/step - loss: 0.0046 - accuracy: 0.9996 - val_loss: 0.0833 - val_accuracy: 0.9901\n",
            "Epoch 12/20\n",
            "265/265 [==============================] - 30s 112ms/step - loss: 0.0038 - accuracy: 0.9994 - val_loss: 0.0839 - val_accuracy: 0.9901\n",
            "Epoch 13/20\n",
            "265/265 [==============================] - 30s 112ms/step - loss: 0.0031 - accuracy: 0.9996 - val_loss: 0.0831 - val_accuracy: 0.9901\n",
            "Epoch 14/20\n",
            "265/265 [==============================] - 30s 112ms/step - loss: 0.0055 - accuracy: 0.9992 - val_loss: 0.0821 - val_accuracy: 0.9901\n",
            "Epoch 15/20\n",
            "265/265 [==============================] - 30s 111ms/step - loss: 0.0022 - accuracy: 0.9996 - val_loss: 0.0822 - val_accuracy: 0.9901\n",
            "Epoch 16/20\n",
            "265/265 [==============================] - 30s 112ms/step - loss: 0.0034 - accuracy: 0.9996 - val_loss: 0.0829 - val_accuracy: 0.9896\n",
            "Epoch 17/20\n",
            "265/265 [==============================] - 30s 112ms/step - loss: 0.0030 - accuracy: 0.9996 - val_loss: 0.0827 - val_accuracy: 0.9896\n",
            "Epoch 18/20\n",
            "265/265 [==============================] - 30s 112ms/step - loss: 0.0028 - accuracy: 0.9995 - val_loss: 0.0813 - val_accuracy: 0.9906\n",
            "Epoch 19/20\n",
            "265/265 [==============================] - 30s 112ms/step - loss: 0.0019 - accuracy: 0.9996 - val_loss: 0.0829 - val_accuracy: 0.9901\n",
            "Epoch 20/20\n",
            "265/265 [==============================] - 30s 112ms/step - loss: 0.0022 - accuracy: 0.9996 - val_loss: 0.0848 - val_accuracy: 0.9906\n"
          ],
          "name": "stdout"
        }
      ]
    },
    {
      "cell_type": "code",
      "metadata": {
        "colab": {
          "base_uri": "https://localhost:8080/"
        },
        "id": "SrbtobTKOM14",
        "outputId": "085ec3ee-0150-43e5-ea01-22e06fd3769c"
      },
      "source": [
        "model.evaluate(val_ds)"
      ],
      "execution_count": null,
      "outputs": [
        {
          "output_type": "stream",
          "text": [
            "67/67 [==============================] - 2s 33ms/step - loss: 0.0848 - accuracy: 0.9906\n"
          ],
          "name": "stdout"
        },
        {
          "output_type": "execute_result",
          "data": {
            "text/plain": [
              "[0.08476509153842926, 0.9905526638031006]"
            ]
          },
          "metadata": {
            "tags": []
          },
          "execution_count": 35
        }
      ]
    },
    {
      "cell_type": "code",
      "metadata": {
        "colab": {
          "base_uri": "https://localhost:8080/",
          "height": 544
        },
        "id": "kWSklhhdJikT",
        "outputId": "617faa07-9da8-40eb-ac67-093a6f45af0e"
      },
      "source": [
        "def plot_graphs(history, string):\n",
        "  plt.plot(history.history[string])\n",
        "  plt.plot(history.history['val_'+string])\n",
        "  plt.xlabel(\"Epochs\")\n",
        "  plt.ylabel(string)\n",
        "  plt.legend([string, 'val_'+string])\n",
        "  plt.show()\n",
        "\n",
        "plot_graphs(history, \"accuracy\")\n",
        "plot_graphs(history, \"loss\")"
      ],
      "execution_count": null,
      "outputs": [
        {
          "output_type": "display_data",
          "data": {
            "image/png": "[encoded data removed]",
            "text/plain": [
              "<Figure size 432x288 with 1 Axes>"
            ]
          },
          "metadata": {
            "tags": [],
            "needs_background": "light"
          }
        },
        {
          "output_type": "display_data",
          "data": {
            "image/png": "[encoded data removed]",
            "text/plain": [
              "<Figure size 432x288 with 1 Axes>"
            ]
          },
          "metadata": {
            "tags": [],
            "needs_background": "light"
          }
        }
      ]
    },
    {
      "cell_type": "code",
      "metadata": {
        "id": "F0jlVz-CWvzS"
      },
      "source": [
        "model.save('binary_model_LSTM.h5')"
      ],
      "execution_count": null,
      "outputs": []
    },
    {
      "cell_type": "code",
      "metadata": {
        "id": "ygsE8fQyhPYD",
        "colab": {
          "base_uri": "https://localhost:8080/"
        },
        "outputId": "e77e8ca2-e46d-41f2-e43c-10cb488545d6"
      },
      "source": [
        "model.save('binary_model_LSTM.tf')"
      ],
      "execution_count": null,
      "outputs": [
        {
          "output_type": "stream",
          "text": [
            "WARNING:absl:Found untraced functions such as lstm_cell_10_layer_call_and_return_conditional_losses, lstm_cell_10_layer_call_fn, lstm_cell_11_layer_call_and_return_conditional_losses, lstm_cell_11_layer_call_fn, lstm_cell_10_layer_call_fn while saving (showing 5 of 10). These functions will not be directly callable after loading.\n",
            "WARNING:absl:Found untraced functions such as lstm_cell_10_layer_call_and_return_conditional_losses, lstm_cell_10_layer_call_fn, lstm_cell_11_layer_call_and_return_conditional_losses, lstm_cell_11_layer_call_fn, lstm_cell_10_layer_call_fn while saving (showing 5 of 10). These functions will not be directly callable after loading.\n"
          ],
          "name": "stderr"
        },
        {
          "output_type": "stream",
          "text": [
            "INFO:tensorflow:Assets written to: binary_model_LSTM.tf/assets\n"
          ],
          "name": "stdout"
        },
        {
          "output_type": "stream",
          "text": [
            "INFO:tensorflow:Assets written to: binary_model_LSTM.tf/assets\n"
          ],
          "name": "stderr"
        }
      ]
    },
    {
      "cell_type": "code",
      "metadata": {
        "colab": {
          "base_uri": "https://localhost:8080/"
        },
        "id": "iq5CxFLdCnWt",
        "outputId": "9556cbe9-c798-48f7-e0d9-9dadfcb4bebc"
      },
      "source": [
        "# A string input\n",
        "inputs = tf.keras.Input(shape=(1,), dtype=\"string\")\n",
        "# Turn strings into vocab indices\n",
        "indices = vectorize_layer(inputs)\n",
        "# Turn vocab indices into predictions\n",
        "outputs = model(indices)\n",
        "\n",
        "# Our end to end model\n",
        "end_to_end_model = tf.keras.Model(inputs, outputs)\n",
        "end_to_end_model.compile(\n",
        "    loss=\"binary_crossentropy\", optimizer=\"adam\", metrics=[\"accuracy\"]\n",
        ")\n",
        "\n",
        "# Test it with raw strings\n",
        "end_to_end_model.evaluate(raw_val_ds)"
      ],
      "execution_count": null,
      "outputs": [
        {
          "output_type": "stream",
          "text": [
            "67/67 [==============================] - 5s 62ms/step - loss: 0.1051 - accuracy: 0.9904\n"
          ],
          "name": "stdout"
        },
        {
          "output_type": "execute_result",
          "data": {
            "text/plain": [
              "[0.08476509153842926, 0.9905526638031006]"
            ]
          },
          "metadata": {
            "tags": []
          },
          "execution_count": 39
        }
      ]
    },
    {
      "cell_type": "code",
      "metadata": {
        "colab": {
          "base_uri": "https://localhost:8080/"
        },
        "id": "R_ZhE3m5CnL2",
        "outputId": "024932c4-e9bf-471e-a437-9c0bcb479b11"
      },
      "source": [
        "end_to_end_model.save(\"end_to_end_binary_LSTM_001.tf\")"
      ],
      "execution_count": null,
      "outputs": [
        {
          "output_type": "stream",
          "text": [
            "WARNING:absl:Found untraced functions such as lstm_cell_10_layer_call_and_return_conditional_losses, lstm_cell_10_layer_call_fn, lstm_cell_11_layer_call_and_return_conditional_losses, lstm_cell_11_layer_call_fn, lstm_cell_10_layer_call_fn while saving (showing 5 of 10). These functions will not be directly callable after loading.\n",
            "WARNING:absl:Found untraced functions such as lstm_cell_10_layer_call_and_return_conditional_losses, lstm_cell_10_layer_call_fn, lstm_cell_11_layer_call_and_return_conditional_losses, lstm_cell_11_layer_call_fn, lstm_cell_10_layer_call_fn while saving (showing 5 of 10). These functions will not be directly callable after loading.\n"
          ],
          "name": "stderr"
        },
        {
          "output_type": "stream",
          "text": [
            "INFO:tensorflow:Assets written to: end_to_end_binary_LSTM_001.tf/assets\n"
          ],
          "name": "stdout"
        },
        {
          "output_type": "stream",
          "text": [
            "INFO:tensorflow:Assets written to: end_to_end_binary_LSTM_001.tf/assets\n"
          ],
          "name": "stderr"
        }
      ]
    },
    {
      "cell_type": "code",
      "metadata": {
        "id": "PIOvkeZe-cSy"
      },
      "source": [
        "#predict function\n",
        "def predict_post(string):\n",
        "    pred = end_to_end_model.predict(string)\n",
        "    print(pred)\n",
        "    pred = int(np.round(pred[0][0]))\n",
        "    print (pred)\n",
        "    print (class_names[pred])"
      ],
      "execution_count": null,
      "outputs": []
    },
    {
      "cell_type": "code",
      "metadata": {
        "id": "QHvCcVTC-OKt",
        "colab": {
          "base_uri": "https://localhost:8080/"
        },
        "outputId": "411ae9ed-e9e6-4dad-b17d-a1d149639172"
      },
      "source": [
        "text = ['Just a discussion\\n \\n I was just wondering how hallowed be thy name fits so perfectly with this game . \\n\" I\\'m waiting in my cell, when the bells begins to chime\".']\n",
        "predict_post(text)"
      ],
      "execution_count": null,
      "outputs": [
        {
          "output_type": "stream",
          "text": [
            "[[7.4789774e-08]]\n",
            "0\n",
            "Normal_Posts\n"
          ],
          "name": "stdout"
        }
      ]
    },
    {
      "cell_type": "code",
      "metadata": {
        "id": "xTw8TlWcPfBH",
        "colab": {
          "base_uri": "https://localhost:8080/"
        },
        "outputId": "ca239a3b-6361-4755-d791-c57e29d4be00"
      },
      "source": [
        "text = ['I am tired \\n tired of waiting, I am not waiting anymore I want it to be over it hurts me and my family.']\n",
        "predict_post(text)"
      ],
      "execution_count": null,
      "outputs": [
        {
          "output_type": "stream",
          "text": [
            "[[0.9999956]]\n",
            "1\n",
            "Depressed_Posts\n"
          ],
          "name": "stdout"
        }
      ]
    },
    {
      "cell_type": "code",
      "metadata": {
        "id": "aau2cP6UICGj",
        "colab": {
          "base_uri": "https://localhost:8080/"
        },
        "outputId": "a4b240c1-c8b5-4c01-ac69-8bd5e3349633"
      },
      "source": [
        "text = ['I am reckless \\n my reckless attitude towards everything just costed me the life of my pet. The pain is unbearable.']\n",
        "predict_post(text)"
      ],
      "execution_count": null,
      "outputs": [
        {
          "output_type": "stream",
          "text": [
            "[[0.9997968]]\n",
            "1\n",
            "Depressed_Posts\n"
          ],
          "name": "stdout"
        }
      ]
    },
    {
      "cell_type": "code",
      "metadata": {
        "colab": {
          "base_uri": "https://localhost:8080/"
        },
        "id": "P1z5Ko3We8gq",
        "outputId": "6bf1dc8e-44bc-4d24-aff4-5e4f86a97a8b"
      },
      "source": [
        "text = ['Every day \\n Every day we stray further from god. Who will help us once god is upset and fed up with this world']\n",
        "predict_post(text)"
      ],
      "execution_count": null,
      "outputs": [
        {
          "output_type": "stream",
          "text": [
            "[[0.06149744]]\n",
            "0\n",
            "Normal_Posts\n"
          ],
          "name": "stdout"
        }
      ]
    },
    {
      "cell_type": "code",
      "metadata": {
        "id": "pLp0tnlHvcz5"
      },
      "source": [],
      "execution_count": null,
      "outputs": []
    }
  ]
}